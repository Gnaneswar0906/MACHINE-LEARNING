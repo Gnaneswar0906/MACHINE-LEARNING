{
  "nbformat": 4,
  "nbformat_minor": 0,
  "metadata": {
    "colab": {
      "provenance": []
    },
    "kernelspec": {
      "name": "python3",
      "display_name": "Python 3"
    },
    "language_info": {
      "name": "python"
    }
  },
  "cells": [
    {
      "cell_type": "markdown",
      "source": [
        "# 1.Write a program to count the number of vowels and consonants present in an input string."
      ],
      "metadata": {
        "id": "hYy8FiYqaO5p"
      }
    },
    {
      "cell_type": "code",
      "execution_count": 10,
      "metadata": {
        "colab": {
          "base_uri": "https://localhost:8080/"
        },
        "id": "KPnUOIOJYmO3",
        "outputId": "05f8f39c-0eb4-45a9-9f02-fcbae1a21cba"
      },
      "outputs": [
        {
          "output_type": "stream",
          "name": "stdout",
          "text": [
            "The word given is : Gnaneswar\n",
            "Number of Vowels : 3\n",
            "Number of Consonants : 6\n"
          ]
        }
      ],
      "source": [
        "# Creating the function to find the number of vowels and consonants present in the given word\n",
        "def numof_vow_cons(given_word):\n",
        "    vow = \"aeiouAEIOU\"\n",
        "    vow_num = 0\n",
        "    cons_num = 0\n",
        "\n",
        "    for char in given_word:\n",
        "        if char.isalpha():\n",
        "            if char in vow:\n",
        "                vow_num += 1\n",
        "            else:\n",
        "                cons_num += 1\n",
        "    return vow_num, cons_num\n",
        "\n",
        "# input word\n",
        "given_word = \"Gnaneswar\"\n",
        "vow_num, cons_num = numof_vow_cons(given_word)\n",
        "print(f\"The word given is : {given_word}\") # prints the input word\n",
        "print(f\"Number of Vowels : {vow_num}\") # prints the number of  vowels present in the given word\n",
        "print(f\"Number of Consonants : {cons_num}\") # prints the number of  consonants present in the given word"
      ]
    },
    {
      "cell_type": "markdown",
      "source": [
        "# 2.Write a program that accepts two matrices A and B as input and returns their product AB. Check if A & B are multipliable; if not, return error message."
      ],
      "metadata": {
        "id": "l0epni0DaaYq"
      }
    },
    {
      "cell_type": "code",
      "source": [
        "# Creating the function to find the matrix product of two given matrices A and B\n",
        "def mult_matx(First, Second):\n",
        "    if len(First[0]) != len(Second):\n",
        "        return \"You can't multiply the given Matrices.\"\n",
        "\n",
        "    ans = [[0] * len(Second[0]) for _ in range(len(First))]\n",
        "\n",
        "    for p in range(len(First)):\n",
        "        for q in range(len(Second[0])):\n",
        "            for r in range(len(Second)):\n",
        "                ans[p][q] += First[p][r] * Second[r][q] # It creates the final product matrix of order pxq by using A and B matrices\n",
        "\n",
        "    return ans\n",
        "\n",
        "# Creating the two input matrices A and B\n",
        "First = [[9, 6], [24, 5]]\n",
        "Second = [[5, 24], [6, 9]]\n",
        "ans = mult_matx(First, Second)\n",
        "if isinstance(ans, str):\n",
        "    print(ans)\n",
        "else:\n",
        "    print(\"The product display of First and Second matrices is:\", ans) # It gives the matrix product of two matrices A and B"
      ],
      "metadata": {
        "colab": {
          "base_uri": "https://localhost:8080/"
        },
        "id": "Yr1tIiE9bAKz",
        "outputId": "964d7a5e-4c96-432e-da84-791d8ddba02c"
      },
      "execution_count": 11,
      "outputs": [
        {
          "output_type": "stream",
          "name": "stdout",
          "text": [
            "The product display of First and Second matrices is: [[81, 270], [150, 621]]\n"
          ]
        }
      ]
    },
    {
      "cell_type": "markdown",
      "source": [
        "# 3. Write a program to find the number of common elements between two lists. The lists contain integers."
      ],
      "metadata": {
        "id": "tD2tkhHnc8vG"
      }
    },
    {
      "cell_type": "code",
      "source": [
        "# Creating a function that finds the common integers from the both lists that contains integers\n",
        "def find_same_numbers(givenList1, givenList2):\n",
        "    measure = 0\n",
        "    found = []\n",
        "\n",
        "    for item in givenList1:\n",
        "        if item in givenList2 and item not in found:\n",
        "            measure += 1\n",
        "            found.append(item)\n",
        "\n",
        "    return measure\n",
        "\n",
        "# input two lists as givenList1 and givenList2\n",
        "givenList1 = [10, 22, 33, 45]\n",
        "givenList2 = [33, 45, 53, 62]\n",
        "result = find_same_numbers(givenList1, givenList2)\n",
        "print(\"The Common elements from both the given lists are :\", result) # gives the number of elements present in the both lists"
      ],
      "metadata": {
        "colab": {
          "base_uri": "https://localhost:8080/"
        },
        "id": "msUYhAxUcP1f",
        "outputId": "a219aa77-31ce-4c45-aca8-feaedcd07665"
      },
      "execution_count": 12,
      "outputs": [
        {
          "output_type": "stream",
          "name": "stdout",
          "text": [
            "The Common elements from both the given lists are : 2\n"
          ]
        }
      ]
    },
    {
      "cell_type": "markdown",
      "source": [
        "# 4. Write a program that accepts a matrix as input and returns its transpose."
      ],
      "metadata": {
        "id": "lylv_M9th57D"
      }
    },
    {
      "cell_type": "code",
      "source": [
        "# Creating a function that gives the transpose of the given matrix\n",
        "def transp_matx(matx):\n",
        "    hori = len(matx)\n",
        "    vert = len(matx[0])\n",
        "    ans = []\n",
        "\n",
        "    for j in range(vert):\n",
        "        new_hori = []\n",
        "        for i in range(hori):\n",
        "            new_hori.append(matx[i][j])\n",
        "        ans.append(new_hori)\n",
        "\n",
        "    return ans\n",
        "\n",
        "# input matrix\n",
        "matx = [[1, 2, 3],[4, 5, 6]]\n",
        "\n",
        "res = transp_matx(matx)\n",
        "print(\"the Transpose matrix is :\", res)"
      ],
      "metadata": {
        "colab": {
          "base_uri": "https://localhost:8080/"
        },
        "id": "1xOpEPuUiGuL",
        "outputId": "d1111675-82bf-4aab-fe8d-89bb379e7705"
      },
      "execution_count": 17,
      "outputs": [
        {
          "output_type": "stream",
          "name": "stdout",
          "text": [
            "the Transpose matrix is : [[1, 4], [2, 5], [3, 6]]\n"
          ]
        }
      ]
    },
    {
      "cell_type": "markdown",
      "source": [
        "# 5. Generate a list of 100 random numbers between 100 and 150. Find the mean, median and mode for these numbers."
      ],
      "metadata": {
        "id": "IQGfMB3ljHni"
      }
    },
    {
      "cell_type": "code",
      "source": [
        "import random # importing random class to get random numbers\n",
        "# Creating a function that creates a random numbers from 100 to 150\n",
        "def randlist():\n",
        "    return [random.randint(100, 150) for _ in range(100)]\n",
        "# Creating a function that calculates the mean\n",
        "def calculatemean(elements):\n",
        "    return sum(elements) / len(elements)\n",
        "# Creating a function that calculates the median\n",
        "def calculatemedian(elements):\n",
        "    srtlist = sorted(elements)\n",
        "    p = len(srtlist)\n",
        "    mid = p // 2\n",
        "    if p % 2 == 1:\n",
        "        return srtlist[mid]\n",
        "    else:\n",
        "        return (srtlist[mid - 1] + srtlist[mid]) / 2\n",
        "# Creating a function that calculates the mode\n",
        "def calculatemode(elements):\n",
        "    frequency = {}\n",
        "    max_freq = 0\n",
        "    mode_value = None\n",
        "\n",
        "    for num in elements:\n",
        "        frequency[num] = frequency.get(num, 0) + 1\n",
        "        if frequency[num] > max_freq or (frequency[num] == max_freq and (mode_value is None or num < mode_value)):\n",
        "            max_freq = frequency[num]\n",
        "            mode_value = num\n",
        "\n",
        "    return mode_value\n",
        "\n",
        "random_numbers = randlist()\n",
        "mean_val = calculatemean(random_numbers)\n",
        "median_val = calculatemedian(random_numbers)\n",
        "mode_val = calculatemode(random_numbers)\n",
        "\n",
        "print(\"Random Numbers:\", random_numbers) # It gives the random numbers\n",
        "print(\"Mean:\", mean_val) # It gives the mean of the generated random numbers\n",
        "print(\"Median:\", median_val) # It gives the median of the generated random numbers\n",
        "print(\"Mode:\", mode_val) # It gives the mode of the generated random numbers"
      ],
      "metadata": {
        "colab": {
          "base_uri": "https://localhost:8080/"
        },
        "id": "256PtPnijIqk",
        "outputId": "d5d38989-6fcb-4963-c9e9-9a1c15e69c74"
      },
      "execution_count": 7,
      "outputs": [
        {
          "output_type": "stream",
          "name": "stdout",
          "text": [
            "Random Numbers: [146, 102, 123, 122, 104, 118, 137, 120, 122, 127, 134, 140, 110, 111, 148, 149, 121, 121, 150, 127, 148, 107, 139, 108, 102, 109, 118, 134, 118, 135, 122, 108, 125, 108, 108, 122, 114, 129, 120, 114, 132, 133, 104, 124, 114, 130, 111, 134, 134, 130, 124, 126, 130, 109, 139, 120, 101, 101, 147, 118, 140, 109, 133, 131, 100, 150, 109, 143, 145, 132, 127, 110, 136, 116, 126, 100, 128, 103, 143, 126, 133, 146, 147, 105, 128, 105, 116, 135, 130, 114, 120, 111, 127, 150, 117, 112, 113, 135, 100, 101]\n",
            "Mean: 123.33\n",
            "Median: 122.5\n",
            "Mode: 108\n"
          ]
        }
      ]
    }
  ]
}